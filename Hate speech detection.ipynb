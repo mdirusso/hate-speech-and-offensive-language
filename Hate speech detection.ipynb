{
 "cells": [
  {
   "cell_type": "code",
   "execution_count": 1,
   "metadata": {},
   "outputs": [],
   "source": [
    "import numpy as np\n",
    "import pandas as pd\n",
    "import matplotlib.pyplot as plt\n",
    "import re                                    #regexp\n",
    "\n",
    "from sklearn.model_selection import cross_validate\n",
    "from sklearn import svm\n",
    "from sklearn.feature_extraction.text import TfidfVectorizer\n",
    "\n",
    "import string\n",
    "\n",
    "import nltk\n",
    "from nltk.corpus import stopwords                   \n",
    "from nltk.tokenize import word_tokenize\n",
    "from nltk.stem.snowball import SnowballStemmer\n",
    "from nltk.tokenize import RegexpTokenizer\n",
    "\n",
    "\n",
    "from vaderSentiment.vaderSentiment import SentimentIntensityAnalyzer as VS\n",
    "from textstat.textstat import *\n",
    "\n",
    "from sklearn.model_selection import train_test_split\n",
    "from sklearn.linear_model import LogisticRegression\n",
    "from sklearn.tree import DecisionTreeClassifier\n",
    "from sklearn.svm import LinearSVC\n",
    "from sklearn.naive_bayes import BernoulliNB\n",
    "\n",
    "import warnings\n",
    "warnings.filterwarnings(\"ignore\")\n",
    "\n",
    "import random"
   ]
  },
  {
   "cell_type": "markdown",
   "metadata": {},
   "source": [
    "# Import del dataset"
   ]
  },
  {
   "cell_type": "code",
   "execution_count": 2,
   "metadata": {},
   "outputs": [
    {
     "data": {
      "text/html": [
       "<div>\n",
       "<style scoped>\n",
       "    .dataframe tbody tr th:only-of-type {\n",
       "        vertical-align: middle;\n",
       "    }\n",
       "\n",
       "    .dataframe tbody tr th {\n",
       "        vertical-align: top;\n",
       "    }\n",
       "\n",
       "    .dataframe thead th {\n",
       "        text-align: right;\n",
       "    }\n",
       "</style>\n",
       "<table border=\"1\" class=\"dataframe\">\n",
       "  <thead>\n",
       "    <tr style=\"text-align: right;\">\n",
       "      <th></th>\n",
       "      <th>Unnamed: 0</th>\n",
       "      <th>count</th>\n",
       "      <th>hate_speech</th>\n",
       "      <th>offensive_language</th>\n",
       "      <th>neither</th>\n",
       "      <th>class</th>\n",
       "      <th>tweet</th>\n",
       "    </tr>\n",
       "  </thead>\n",
       "  <tbody>\n",
       "    <tr>\n",
       "      <td>24778</td>\n",
       "      <td>25291</td>\n",
       "      <td>3</td>\n",
       "      <td>0</td>\n",
       "      <td>2</td>\n",
       "      <td>1</td>\n",
       "      <td>1</td>\n",
       "      <td>you's a muthaf***in lie &amp;#8220;@LifeAsKing: @2...</td>\n",
       "    </tr>\n",
       "    <tr>\n",
       "      <td>24779</td>\n",
       "      <td>25292</td>\n",
       "      <td>3</td>\n",
       "      <td>0</td>\n",
       "      <td>1</td>\n",
       "      <td>2</td>\n",
       "      <td>2</td>\n",
       "      <td>you've gone and broke the wrong heart baby, an...</td>\n",
       "    </tr>\n",
       "    <tr>\n",
       "      <td>24780</td>\n",
       "      <td>25294</td>\n",
       "      <td>3</td>\n",
       "      <td>0</td>\n",
       "      <td>3</td>\n",
       "      <td>0</td>\n",
       "      <td>1</td>\n",
       "      <td>young buck wanna eat!!.. dat nigguh like I ain...</td>\n",
       "    </tr>\n",
       "    <tr>\n",
       "      <td>24781</td>\n",
       "      <td>25295</td>\n",
       "      <td>6</td>\n",
       "      <td>0</td>\n",
       "      <td>6</td>\n",
       "      <td>0</td>\n",
       "      <td>1</td>\n",
       "      <td>youu got wild bitches tellin you lies</td>\n",
       "    </tr>\n",
       "    <tr>\n",
       "      <td>24782</td>\n",
       "      <td>25296</td>\n",
       "      <td>3</td>\n",
       "      <td>0</td>\n",
       "      <td>0</td>\n",
       "      <td>3</td>\n",
       "      <td>2</td>\n",
       "      <td>~~Ruffled | Ntac Eileen Dahlia - Beautiful col...</td>\n",
       "    </tr>\n",
       "  </tbody>\n",
       "</table>\n",
       "</div>"
      ],
      "text/plain": [
       "       Unnamed: 0  count  hate_speech  offensive_language  neither  class  \\\n",
       "24778       25291      3            0                   2        1      1   \n",
       "24779       25292      3            0                   1        2      2   \n",
       "24780       25294      3            0                   3        0      1   \n",
       "24781       25295      6            0                   6        0      1   \n",
       "24782       25296      3            0                   0        3      2   \n",
       "\n",
       "                                                   tweet  \n",
       "24778  you's a muthaf***in lie &#8220;@LifeAsKing: @2...  \n",
       "24779  you've gone and broke the wrong heart baby, an...  \n",
       "24780  young buck wanna eat!!.. dat nigguh like I ain...  \n",
       "24781              youu got wild bitches tellin you lies  \n",
       "24782  ~~Ruffled | Ntac Eileen Dahlia - Beautiful col...  "
      ]
     },
     "execution_count": 2,
     "metadata": {},
     "output_type": "execute_result"
    }
   ],
   "source": [
    "df = pd.read_csv('labeled_data.csv')\n",
    "df.tail()"
   ]
  },
  {
   "cell_type": "markdown",
   "metadata": {},
   "source": [
    "# Distribuzione classi"
   ]
  },
  {
   "cell_type": "code",
   "execution_count": 3,
   "metadata": {},
   "outputs": [
    {
     "name": "stdout",
     "output_type": "stream",
     "text": [
      "Percentuale di label 0 :  5.770084332001776\n",
      "Percentuale di label 1 :  77.43211072105879\n",
      "Percentuale di label 2 :  16.797804946939436\n"
     ]
    },
    {
     "data": {
      "text/plain": [
       "<matplotlib.axes._subplots.AxesSubplot at 0x2a4b19555c0>"
      ]
     },
     "execution_count": 3,
     "metadata": {},
     "output_type": "execute_result"
    },
    {
     "data": {
      "image/png": "[encoded data removed]",
      "text/plain": [
       "<Figure size 432x288 with 1 Axes>"
      ]
     },
     "metadata": {
      "needs_background": "light"
     },
     "output_type": "display_data"
    }
   ],
   "source": [
    "countLabel = np.zeros(3)\n",
    "\n",
    "for label in df['class']:\n",
    "    countLabel[label] = countLabel[label] + 1\n",
    "\n",
    "for index, count in enumerate(countLabel) :\n",
    "    print('Percentuale di label', index , ': ', 100*(count/df['class'].size))\n",
    "\n",
    "df['class'].hist()"
   ]
  },
  {
   "cell_type": "markdown",
   "metadata": {},
   "source": [
    "# Underfitting"
   ]
  },
  {
   "cell_type": "code",
   "execution_count": 4,
   "metadata": {},
   "outputs": [],
   "source": [
    "columns = ['Unnamed: 0', 'count', 'hate_speech', 'offensive_language', 'neither', 'class', 'tweet']\n",
    "\n",
    "df1 = pd.DataFrame(columns=columns)\n",
    "df_offensive = pd.DataFrame(columns=columns)\n",
    "\n",
    "for i in df.index :\n",
    "    if df['class'][i] == 1 :\n",
    "        if (i % 2 == 0) :\n",
    "            df1 = df1.append(df.iloc[i], ignore_index=True)\n",
    "        else : \n",
    "            df_offensive = df_offensive.append(df.iloc[i], ignore_index=True)\n",
    "    else :\n",
    "        df1 = df1.append(df.iloc[i], ignore_index=True)\n",
    "     \n"
   ]
  },
  {
   "cell_type": "code",
   "execution_count": 5,
   "metadata": {},
   "outputs": [
    {
     "data": {
      "text/html": [
       "<div>\n",
       "<style scoped>\n",
       "    .dataframe tbody tr th:only-of-type {\n",
       "        vertical-align: middle;\n",
       "    }\n",
       "\n",
       "    .dataframe tbody tr th {\n",
       "        vertical-align: top;\n",
       "    }\n",
       "\n",
       "    .dataframe thead th {\n",
       "        text-align: right;\n",
       "    }\n",
       "</style>\n",
       "<table border=\"1\" class=\"dataframe\">\n",
       "  <thead>\n",
       "    <tr style=\"text-align: right;\">\n",
       "      <th></th>\n",
       "      <th>Unnamed: 0</th>\n",
       "      <th>count</th>\n",
       "      <th>hate_speech</th>\n",
       "      <th>offensive_language</th>\n",
       "      <th>neither</th>\n",
       "      <th>class</th>\n",
       "      <th>tweet</th>\n",
       "    </tr>\n",
       "  </thead>\n",
       "  <tbody>\n",
       "    <tr>\n",
       "      <td>15125</td>\n",
       "      <td>25290</td>\n",
       "      <td>3</td>\n",
       "      <td>2</td>\n",
       "      <td>1</td>\n",
       "      <td>0</td>\n",
       "      <td>0</td>\n",
       "      <td>you're such a retard i hope you get type 2 dia...</td>\n",
       "    </tr>\n",
       "    <tr>\n",
       "      <td>15126</td>\n",
       "      <td>25291</td>\n",
       "      <td>3</td>\n",
       "      <td>0</td>\n",
       "      <td>2</td>\n",
       "      <td>1</td>\n",
       "      <td>1</td>\n",
       "      <td>you's a muthaf***in lie &amp;#8220;@LifeAsKing: @2...</td>\n",
       "    </tr>\n",
       "    <tr>\n",
       "      <td>15127</td>\n",
       "      <td>25292</td>\n",
       "      <td>3</td>\n",
       "      <td>0</td>\n",
       "      <td>1</td>\n",
       "      <td>2</td>\n",
       "      <td>2</td>\n",
       "      <td>you've gone and broke the wrong heart baby, an...</td>\n",
       "    </tr>\n",
       "    <tr>\n",
       "      <td>15128</td>\n",
       "      <td>25294</td>\n",
       "      <td>3</td>\n",
       "      <td>0</td>\n",
       "      <td>3</td>\n",
       "      <td>0</td>\n",
       "      <td>1</td>\n",
       "      <td>young buck wanna eat!!.. dat nigguh like I ain...</td>\n",
       "    </tr>\n",
       "    <tr>\n",
       "      <td>15129</td>\n",
       "      <td>25296</td>\n",
       "      <td>3</td>\n",
       "      <td>0</td>\n",
       "      <td>0</td>\n",
       "      <td>3</td>\n",
       "      <td>2</td>\n",
       "      <td>~~Ruffled | Ntac Eileen Dahlia - Beautiful col...</td>\n",
       "    </tr>\n",
       "  </tbody>\n",
       "</table>\n",
       "</div>"
      ],
      "text/plain": [
       "      Unnamed: 0 count hate_speech offensive_language neither class  \\\n",
       "15125      25290     3           2                  1       0     0   \n",
       "15126      25291     3           0                  2       1     1   \n",
       "15127      25292     3           0                  1       2     2   \n",
       "15128      25294     3           0                  3       0     1   \n",
       "15129      25296     3           0                  0       3     2   \n",
       "\n",
       "                                                   tweet  \n",
       "15125  you're such a retard i hope you get type 2 dia...  \n",
       "15126  you's a muthaf***in lie &#8220;@LifeAsKing: @2...  \n",
       "15127  you've gone and broke the wrong heart baby, an...  \n",
       "15128  young buck wanna eat!!.. dat nigguh like I ain...  \n",
       "15129  ~~Ruffled | Ntac Eileen Dahlia - Beautiful col...  "
      ]
     },
     "execution_count": 5,
     "metadata": {},
     "output_type": "execute_result"
    }
   ],
   "source": [
    "df1.tail()"
   ]
  },
  {
   "cell_type": "code",
   "execution_count": 6,
   "metadata": {},
   "outputs": [
    {
     "data": {
      "text/html": [
       "<div>\n",
       "<style scoped>\n",
       "    .dataframe tbody tr th:only-of-type {\n",
       "        vertical-align: middle;\n",
       "    }\n",
       "\n",
       "    .dataframe tbody tr th {\n",
       "        vertical-align: top;\n",
       "    }\n",
       "\n",
       "    .dataframe thead th {\n",
       "        text-align: right;\n",
       "    }\n",
       "</style>\n",
       "<table border=\"1\" class=\"dataframe\">\n",
       "  <thead>\n",
       "    <tr style=\"text-align: right;\">\n",
       "      <th></th>\n",
       "      <th>Unnamed: 0</th>\n",
       "      <th>count</th>\n",
       "      <th>hate_speech</th>\n",
       "      <th>offensive_language</th>\n",
       "      <th>neither</th>\n",
       "      <th>class</th>\n",
       "      <th>tweet</th>\n",
       "    </tr>\n",
       "  </thead>\n",
       "  <tbody>\n",
       "    <tr>\n",
       "      <td>9648</td>\n",
       "      <td>25282</td>\n",
       "      <td>3</td>\n",
       "      <td>0</td>\n",
       "      <td>3</td>\n",
       "      <td>0</td>\n",
       "      <td>1</td>\n",
       "      <td>you lil dumb ass bitch, i ain't fuckin wit chu...</td>\n",
       "    </tr>\n",
       "    <tr>\n",
       "      <td>9649</td>\n",
       "      <td>25284</td>\n",
       "      <td>3</td>\n",
       "      <td>0</td>\n",
       "      <td>3</td>\n",
       "      <td>0</td>\n",
       "      <td>1</td>\n",
       "      <td>you look like your 12 stop talking about fucki...</td>\n",
       "    </tr>\n",
       "    <tr>\n",
       "      <td>9650</td>\n",
       "      <td>25286</td>\n",
       "      <td>3</td>\n",
       "      <td>1</td>\n",
       "      <td>2</td>\n",
       "      <td>0</td>\n",
       "      <td>1</td>\n",
       "      <td>you niggers cheat on ya gf's? smh....</td>\n",
       "    </tr>\n",
       "    <tr>\n",
       "      <td>9651</td>\n",
       "      <td>25288</td>\n",
       "      <td>3</td>\n",
       "      <td>0</td>\n",
       "      <td>3</td>\n",
       "      <td>0</td>\n",
       "      <td>1</td>\n",
       "      <td>you worried bout other bitches, you need me for?</td>\n",
       "    </tr>\n",
       "    <tr>\n",
       "      <td>9652</td>\n",
       "      <td>25295</td>\n",
       "      <td>6</td>\n",
       "      <td>0</td>\n",
       "      <td>6</td>\n",
       "      <td>0</td>\n",
       "      <td>1</td>\n",
       "      <td>youu got wild bitches tellin you lies</td>\n",
       "    </tr>\n",
       "  </tbody>\n",
       "</table>\n",
       "</div>"
      ],
      "text/plain": [
       "     Unnamed: 0 count hate_speech offensive_language neither class  \\\n",
       "9648      25282     3           0                  3       0     1   \n",
       "9649      25284     3           0                  3       0     1   \n",
       "9650      25286     3           1                  2       0     1   \n",
       "9651      25288     3           0                  3       0     1   \n",
       "9652      25295     6           0                  6       0     1   \n",
       "\n",
       "                                                  tweet  \n",
       "9648  you lil dumb ass bitch, i ain't fuckin wit chu...  \n",
       "9649  you look like your 12 stop talking about fucki...  \n",
       "9650              you niggers cheat on ya gf's? smh....  \n",
       "9651   you worried bout other bitches, you need me for?  \n",
       "9652              youu got wild bitches tellin you lies  "
      ]
     },
     "execution_count": 6,
     "metadata": {},
     "output_type": "execute_result"
    }
   ],
   "source": [
    "df_offensive.tail()"
   ]
  },
  {
   "cell_type": "code",
   "execution_count": 7,
   "metadata": {},
   "outputs": [
    {
     "data": {
      "text/plain": [
       "<matplotlib.axes._subplots.AxesSubplot at 0x2a4b1c9e080>"
      ]
     },
     "execution_count": 7,
     "metadata": {},
     "output_type": "execute_result"
    },
    {
     "data": {
      "image/png": "[encoded data removed]",
      "text/plain": [
       "<Figure size 432x288 with 1 Axes>"
      ]
     },
     "metadata": {
      "needs_background": "light"
     },
     "output_type": "display_data"
    }
   ],
   "source": [
    "df1['class'].hist()"
   ]
  },
  {
   "cell_type": "code",
   "execution_count": 8,
   "metadata": {},
   "outputs": [
    {
     "data": {
      "text/plain": [
       "<matplotlib.axes._subplots.AxesSubplot at 0x2a4b2e1a048>"
      ]
     },
     "execution_count": 8,
     "metadata": {},
     "output_type": "execute_result"
    },
    {
     "data": {
      "image/png": "[encoded data removed]",
      "text/plain": [
       "<Figure size 432x288 with 1 Axes>"
      ]
     },
     "metadata": {
      "needs_background": "light"
     },
     "output_type": "display_data"
    }
   ],
   "source": [
    "df_offensive['class'].hist()"
   ]
  },
  {
   "cell_type": "markdown",
   "metadata": {},
   "source": [
    "# Rimozione punteggiatura, numeri e caratteri speciali"
   ]
  },
  {
   "cell_type": "code",
   "execution_count": 9,
   "metadata": {},
   "outputs": [],
   "source": [
    "def remove_punct_num_spec(tweets):\n",
    "    \n",
    "    cleaned_tweets = []  \n",
    "\n",
    "    for i, tweet in enumerate(tweets) :\n",
    "        tmp = re.sub(r'\\w+:\\/{2}[\\d\\w-]+(\\.[\\d\\w-]+)*(?:(?:\\/[^\\s/]*))*', '', tweet, flags=re.MULTILINE)\n",
    "        tmp = re.sub(r'@[\\w]*', '', tmp)\n",
    "        tmp = re.sub(r\"&amp\", '', tmp)\n",
    "        tmp = re.sub(r\"[^A-Za-z\\s']+\", '', tmp)\n",
    "        tmp = re.sub(r\"\\n\", '', tmp)\n",
    "        cleaned_tweets.append(tmp)\n",
    "        \n",
    "    return cleaned_tweets\n",
    "\n",
    "def remove_punct_num_spec_singleTweet (tweet):\n",
    "    \n",
    "    tmp = re.sub(r'\\w+:\\/{2}[\\d\\w-]+(\\.[\\d\\w-]+)*(?:(?:\\/[^\\s/]*))*', '', tweet, flags=re.MULTILINE)\n",
    "    tmp = re.sub(r'@[\\w]*', '', tmp)\n",
    "    tmp = re.sub(r\"&amp\", '', tmp)\n",
    "    tmp = re.sub(r\"[^A-Za-z\\s']+\", '', tmp)\n",
    "    tmp = re.sub(r\"\\n\", '', tmp)\n",
    "    \n",
    "    return tmp\n",
    "    "
   ]
  },
  {
   "cell_type": "code",
   "execution_count": 10,
   "metadata": {},
   "outputs": [
    {
     "data": {
      "text/plain": [
       "[\" RT  As a woman you shouldn't complain about cleaning up your house  as a man you should always take the trash out\",\n",
       " ' RT  Dawg RT  You ever fuck a bitch and she start to cry You be confused as shit',\n",
       " ' RT  The shit you hear about me might be true or it might be faker than the bitch who told it to ya ',\n",
       " ' I can not just sit up and HATE on another bitch  I got too much shit going on',\n",
       " '  you might not get ya bitch back  thats that ']"
      ]
     },
     "execution_count": 10,
     "metadata": {},
     "output_type": "execute_result"
    }
   ],
   "source": [
    "tweets = df1.tweet\n",
    "cleaned_tweets = remove_punct_num_spec(tweets)\n",
    "cleaned_tweets[:5]"
   ]
  },
  {
   "cell_type": "markdown",
   "metadata": {},
   "source": [
    "# Tokenizers"
   ]
  },
  {
   "cell_type": "code",
   "execution_count": 11,
   "metadata": {},
   "outputs": [],
   "source": [
    "def tweets_tokenize (tweets, tokenizer, stop_words) :\n",
    "\n",
    "    tokenized_tweets = []\n",
    "    new_sentence = []\n",
    "\n",
    "    for tweet in tweets :\n",
    "        text = tokenizer.tokenize(tweet) \n",
    "        for w in text:\n",
    "            if w.lower() not in stop_words:   \n",
    "                new_sentence.append(w.lower())\n",
    "\n",
    "        tokenized_tweets.append(new_sentence)\n",
    "        new_sentence = []\n",
    "        \n",
    "    return tokenized_tweets\n",
    "\n",
    "\n",
    "def tokenize (tweet) :\n",
    "    tokenizer = RegexpTokenizer(r'\\w+')\n",
    "    stop_words = (stopwords.words('english'))\n",
    "    exclusions = ['rt', 'u']\n",
    "    stop_words.extend(exclusions)\n",
    "    stemmer = SnowballStemmer('english')\n",
    "    \n",
    "    new_sentence = []\n",
    "    text = tokenizer.tokenize(tweet) \n",
    "    for w in text:\n",
    "        if w.lower() not in stop_words:   \n",
    "            new_sentence.append(w.lower())\n",
    "\n",
    "    return stem_single_tweet(new_sentence, stemmer)\n",
    "\n",
    "def basic_tokenize (tweet) :\n",
    "    tokenizer = RegexpTokenizer(r'\\w+')\n",
    "    stop_words = (stopwords.words('english'))\n",
    "    exclusions = ['rt', 'u']\n",
    "    stop_words.extend(exclusions)\n",
    "    stemmer = SnowballStemmer('english')\n",
    "    \n",
    "    new_sentence = []\n",
    "    text = tokenizer.tokenize(tweet) \n",
    "    for w in text:\n",
    "        if w.lower() not in stop_words:   \n",
    "            new_sentence.append(w.lower())\n",
    "\n",
    "    return new_sentence\n"
   ]
  },
  {
   "cell_type": "code",
   "execution_count": 12,
   "metadata": {},
   "outputs": [
    {
     "name": "stdout",
     "output_type": "stream",
     "text": [
      "['i', 'me', 'my', 'myself', 'we', 'our', 'ours', 'ourselves', 'you', \"you're\", \"you've\", \"you'll\", \"you'd\", 'your', 'yours', 'yourself', 'yourselves', 'he', 'him', 'his', 'himself', 'she', \"she's\", 'her', 'hers', 'herself', 'it', \"it's\", 'its', 'itself', 'they', 'them', 'their', 'theirs', 'themselves', 'what', 'which', 'who', 'whom', 'this', 'that', \"that'll\", 'these', 'those', 'am', 'is', 'are', 'was', 'were', 'be', 'been', 'being', 'have', 'has', 'had', 'having', 'do', 'does', 'did', 'doing', 'a', 'an', 'the', 'and', 'but', 'if', 'or', 'because', 'as', 'until', 'while', 'of', 'at', 'by', 'for', 'with', 'about', 'against', 'between', 'into', 'through', 'during', 'before', 'after', 'above', 'below', 'to', 'from', 'up', 'down', 'in', 'out', 'on', 'off', 'over', 'under', 'again', 'further', 'then', 'once', 'here', 'there', 'when', 'where', 'why', 'how', 'all', 'any', 'both', 'each', 'few', 'more', 'most', 'other', 'some', 'such', 'no', 'nor', 'not', 'only', 'own', 'same', 'so', 'than', 'too', 'very', 's', 't', 'can', 'will', 'just', 'don', \"don't\", 'should', \"should've\", 'now', 'd', 'll', 'm', 'o', 're', 've', 'y', 'ain', 'aren', \"aren't\", 'couldn', \"couldn't\", 'didn', \"didn't\", 'doesn', \"doesn't\", 'hadn', \"hadn't\", 'hasn', \"hasn't\", 'haven', \"haven't\", 'isn', \"isn't\", 'ma', 'mightn', \"mightn't\", 'mustn', \"mustn't\", 'needn', \"needn't\", 'shan', \"shan't\", 'shouldn', \"shouldn't\", 'wasn', \"wasn't\", 'weren', \"weren't\", 'won', \"won't\", 'wouldn', \"wouldn't\", 'rt', 'u']\n",
      "------------------------\n",
      "[['woman', 'complain', 'cleaning', 'house', 'man', 'always', 'take', 'trash'], ['dawg', 'ever', 'fuck', 'bitch', 'start', 'cry', 'confused', 'shit'], ['shit', 'hear', 'might', 'true', 'might', 'faker', 'bitch', 'told', 'ya'], ['sit', 'hate', 'another', 'bitch', 'got', 'much', 'shit', 'going'], ['might', 'get', 'ya', 'bitch', 'back', 'thats']]\n"
     ]
    }
   ],
   "source": [
    "tokenizer = RegexpTokenizer(r'\\w+')\n",
    "\n",
    "stop_words = (stopwords.words('english'))\n",
    "exclusions = ['rt', 'u']\n",
    "stop_words.extend(exclusions)\n",
    "\n",
    "\n",
    "tokenized_tweets = tweets_tokenize(cleaned_tweets, tokenizer, stop_words)\n",
    "print(stop_words)\n",
    "print('------------------------')\n",
    "print(tokenized_tweets[:5])"
   ]
  },
  {
   "cell_type": "markdown",
   "metadata": {},
   "source": [
    "# Stemming"
   ]
  },
  {
   "cell_type": "code",
   "execution_count": 13,
   "metadata": {},
   "outputs": [],
   "source": [
    "def stem (tokenized_tweets, stemmer) :\n",
    "    tokenized_stemmed = []\n",
    "\n",
    "    for tweet in tokenized_tweets:\n",
    "        tokenized_stemmed.append([stemmer.stem(word) for word in tweet])\n",
    "        \n",
    "    return tokenized_stemmed\n",
    "\n",
    "def stem_single_tweet (tweet, stemmer) :\n",
    "    tokenized_stemmed = []\n",
    "\n",
    "    return [stemmer.stem(word) for word in tweet]\n",
    "    "
   ]
  },
  {
   "cell_type": "code",
   "execution_count": 14,
   "metadata": {},
   "outputs": [
    {
     "name": "stdout",
     "output_type": "stream",
     "text": [
      "[['woman', 'complain', 'clean', 'hous', 'man', 'alway', 'take', 'trash'], ['dawg', 'ever', 'fuck', 'bitch', 'start', 'cri', 'confus', 'shit'], ['shit', 'hear', 'might', 'true', 'might', 'faker', 'bitch', 'told', 'ya'], ['sit', 'hate', 'anoth', 'bitch', 'got', 'much', 'shit', 'go'], ['might', 'get', 'ya', 'bitch', 'back', 'that']]\n"
     ]
    }
   ],
   "source": [
    "stemmer = SnowballStemmer('english')\n",
    "stemmed_tweets = stem(tokenized_tweets, stemmer)\n",
    "print(stemmed_tweets[:5])"
   ]
  },
  {
   "cell_type": "code",
   "execution_count": 15,
   "metadata": {},
   "outputs": [
    {
     "data": {
      "image/png": "[encoded data removed]",
      "text/plain": [
       "<Figure size 720x720 with 1 Axes>"
      ]
     },
     "metadata": {
      "needs_background": "light"
     },
     "output_type": "display_data"
    }
   ],
   "source": [
    "dicti = {}\n",
    "\n",
    "from collections import Counter \n",
    "  \n",
    "\n",
    "for tweet in stemmed_tweets :\n",
    "    for word in tweet :\n",
    "        dicti[word] = 0\n",
    "for tweet in stemmed_tweets :\n",
    "    for word in tweet :\n",
    "        dicti[word] = dicti[word] + 1\n",
    "        \n",
    "import collections \n",
    "k = Counter(dicti)\n",
    "sorted_dict = dict(k.most_common(10))  \n",
    "\n",
    "product_quantity_figure = plt.figure(figsize=(10,10))\n",
    "ax = product_quantity_figure.add_subplot(111)\n",
    "ax.set(title='Non-stopwords distribution', ylabel='Quantity')\n",
    "ax.bar(sorted_dict.keys(),sorted_dict.values(),\n",
    "color='#527fd9', linewidth=1)\n",
    "xtickNames = ax.set_xticklabels(sorted_dict.keys())\n",
    "plt.setp(xtickNames , rotation=90, fontsize=20)\n",
    "plt.show()\n",
    "\n"
   ]
  },
  {
   "cell_type": "code",
   "execution_count": 16,
   "metadata": {},
   "outputs": [
    {
     "data": {
      "image/png": "[encoded data removed]",
      "text/plain": [
       "<Figure size 720x720 with 1 Axes>"
      ]
     },
     "metadata": {
      "needs_background": "light"
     },
     "output_type": "display_data"
    }
   ],
   "source": [
    "dicti = {}\n",
    "\n",
    "from collections import Counter \n",
    "  \n",
    "\n",
    "for tweet in tweets_tokenize (cleaned_tweets, tokenizer, []) :\n",
    "    for word in tweet :\n",
    "        if len(word) > 1:\n",
    "            dicti[word] = 0\n",
    "for tweet in tweets_tokenize (cleaned_tweets, tokenizer, []) :\n",
    "    for word in tweet :\n",
    "        if len(word) > 1:\n",
    "            dicti[word] = dicti[word] + 1\n",
    "        \n",
    "import collections \n",
    "k = Counter(dicti)\n",
    "sorted_dict = dict(k.most_common(10))  \n",
    "\n",
    "product_quantity_figure = plt.figure(figsize=(10,10))\n",
    "ax = product_quantity_figure.add_subplot(111)\n",
    "ax.set(title='All words', ylabel='Quantity')\n",
    "ax.bar(sorted_dict.keys(),sorted_dict.values(),\n",
    "color='#32a852', linewidth=1)\n",
    "xtickNames = ax.set_xticklabels(sorted_dict.keys())\n",
    "plt.setp(xtickNames , rotation=90, fontsize=20)\n",
    "plt.show()\n"
   ]
  },
  {
   "cell_type": "code",
   "execution_count": 17,
   "metadata": {},
   "outputs": [
    {
     "data": {
      "text/html": [
       "<div>\n",
       "<style scoped>\n",
       "    .dataframe tbody tr th:only-of-type {\n",
       "        vertical-align: middle;\n",
       "    }\n",
       "\n",
       "    .dataframe tbody tr th {\n",
       "        vertical-align: top;\n",
       "    }\n",
       "\n",
       "    .dataframe thead th {\n",
       "        text-align: right;\n",
       "    }\n",
       "</style>\n",
       "<table border=\"1\" class=\"dataframe\">\n",
       "  <thead>\n",
       "    <tr style=\"text-align: right;\">\n",
       "      <th></th>\n",
       "      <th>aap</th>\n",
       "      <th>aaron</th>\n",
       "      <th>ab</th>\n",
       "      <th>abil</th>\n",
       "      <th>abl</th>\n",
       "      <th>abo</th>\n",
       "      <th>abort</th>\n",
       "      <th>absolut</th>\n",
       "      <th>abt</th>\n",
       "      <th>abu</th>\n",
       "      <th>...</th>\n",
       "      <th>yup</th>\n",
       "      <th>z</th>\n",
       "      <th>zebra</th>\n",
       "      <th>zero</th>\n",
       "      <th>zijn</th>\n",
       "      <th>zimmerman</th>\n",
       "      <th>zip</th>\n",
       "      <th>zoe</th>\n",
       "      <th>zone</th>\n",
       "      <th>zoom</th>\n",
       "    </tr>\n",
       "  </thead>\n",
       "  <tbody>\n",
       "    <tr>\n",
       "      <td>523</td>\n",
       "      <td>0.0</td>\n",
       "      <td>0.0</td>\n",
       "      <td>0.0</td>\n",
       "      <td>0.0</td>\n",
       "      <td>0.0</td>\n",
       "      <td>0.0</td>\n",
       "      <td>0.0</td>\n",
       "      <td>0.0</td>\n",
       "      <td>0.0</td>\n",
       "      <td>0.0</td>\n",
       "      <td>...</td>\n",
       "      <td>0.0</td>\n",
       "      <td>0.0</td>\n",
       "      <td>0.0</td>\n",
       "      <td>0.0</td>\n",
       "      <td>0.0</td>\n",
       "      <td>0.0</td>\n",
       "      <td>0.0</td>\n",
       "      <td>0.0</td>\n",
       "      <td>0.0</td>\n",
       "      <td>0.0</td>\n",
       "    </tr>\n",
       "    <tr>\n",
       "      <td>524</td>\n",
       "      <td>0.0</td>\n",
       "      <td>0.0</td>\n",
       "      <td>0.0</td>\n",
       "      <td>0.0</td>\n",
       "      <td>0.0</td>\n",
       "      <td>0.0</td>\n",
       "      <td>0.0</td>\n",
       "      <td>0.0</td>\n",
       "      <td>0.0</td>\n",
       "      <td>0.0</td>\n",
       "      <td>...</td>\n",
       "      <td>0.0</td>\n",
       "      <td>0.0</td>\n",
       "      <td>0.0</td>\n",
       "      <td>0.0</td>\n",
       "      <td>0.0</td>\n",
       "      <td>0.0</td>\n",
       "      <td>0.0</td>\n",
       "      <td>0.0</td>\n",
       "      <td>0.0</td>\n",
       "      <td>0.0</td>\n",
       "    </tr>\n",
       "    <tr>\n",
       "      <td>525</td>\n",
       "      <td>0.0</td>\n",
       "      <td>0.0</td>\n",
       "      <td>0.0</td>\n",
       "      <td>0.0</td>\n",
       "      <td>0.0</td>\n",
       "      <td>0.0</td>\n",
       "      <td>0.0</td>\n",
       "      <td>0.0</td>\n",
       "      <td>0.0</td>\n",
       "      <td>0.0</td>\n",
       "      <td>...</td>\n",
       "      <td>0.0</td>\n",
       "      <td>0.0</td>\n",
       "      <td>0.0</td>\n",
       "      <td>0.0</td>\n",
       "      <td>0.0</td>\n",
       "      <td>0.0</td>\n",
       "      <td>0.0</td>\n",
       "      <td>0.0</td>\n",
       "      <td>0.0</td>\n",
       "      <td>0.0</td>\n",
       "    </tr>\n",
       "    <tr>\n",
       "      <td>526</td>\n",
       "      <td>0.0</td>\n",
       "      <td>0.0</td>\n",
       "      <td>0.0</td>\n",
       "      <td>0.0</td>\n",
       "      <td>0.0</td>\n",
       "      <td>0.0</td>\n",
       "      <td>0.0</td>\n",
       "      <td>0.0</td>\n",
       "      <td>0.0</td>\n",
       "      <td>0.0</td>\n",
       "      <td>...</td>\n",
       "      <td>0.0</td>\n",
       "      <td>0.0</td>\n",
       "      <td>0.0</td>\n",
       "      <td>0.0</td>\n",
       "      <td>0.0</td>\n",
       "      <td>0.0</td>\n",
       "      <td>0.0</td>\n",
       "      <td>0.0</td>\n",
       "      <td>0.0</td>\n",
       "      <td>0.0</td>\n",
       "    </tr>\n",
       "  </tbody>\n",
       "</table>\n",
       "<p>4 rows × 10000 columns</p>\n",
       "</div>"
      ],
      "text/plain": [
       "     aap  aaron   ab  abil  abl  abo  abort  absolut  abt  abu  ...  yup    z  \\\n",
       "523  0.0    0.0  0.0   0.0  0.0  0.0    0.0      0.0  0.0  0.0  ...  0.0  0.0   \n",
       "524  0.0    0.0  0.0   0.0  0.0  0.0    0.0      0.0  0.0  0.0  ...  0.0  0.0   \n",
       "525  0.0    0.0  0.0   0.0  0.0  0.0    0.0      0.0  0.0  0.0  ...  0.0  0.0   \n",
       "526  0.0    0.0  0.0   0.0  0.0  0.0    0.0      0.0  0.0  0.0  ...  0.0  0.0   \n",
       "\n",
       "     zebra  zero  zijn  zimmerman  zip  zoe  zone  zoom  \n",
       "523    0.0   0.0   0.0        0.0  0.0  0.0   0.0   0.0  \n",
       "524    0.0   0.0   0.0        0.0  0.0  0.0   0.0   0.0  \n",
       "525    0.0   0.0   0.0        0.0  0.0  0.0   0.0   0.0  \n",
       "526    0.0   0.0   0.0        0.0  0.0  0.0   0.0   0.0  \n",
       "\n",
       "[4 rows x 10000 columns]"
      ]
     },
     "execution_count": 17,
     "metadata": {},
     "output_type": "execute_result"
    }
   ],
   "source": [
    "vectorizer = TfidfVectorizer(\n",
    "    tokenizer=tokenize,\n",
    "    preprocessor=remove_punct_num_spec_singleTweet,\n",
    "    ngram_range=(1, 3),\n",
    "    max_features=10000\n",
    ")\n",
    "\n",
    "X = vectorizer.fit_transform(df1.tweet)\n",
    "pd.DataFrame(X.toarray(), columns=vectorizer.get_feature_names())[523:527]"
   ]
  },
  {
   "cell_type": "markdown",
   "metadata": {},
   "source": [
    "# POS Tagging"
   ]
  },
  {
   "cell_type": "code",
   "execution_count": 18,
   "metadata": {},
   "outputs": [
    {
     "data": {
      "text/plain": [
       "['NN VB NN NN NN RB VBP NN',\n",
       " 'NN RB VBD JJ NN NN VBD NN',\n",
       " 'NNS JJ MD JJ MD VB NN VBD NN',\n",
       " 'NN NN DT NN VBD JJ NN VBG',\n",
       " 'MD VB JJ VB RB NNS',\n",
       " 'NNS VBP NNS NN NN VBD NN IN NN',\n",
       " 'NNS VBD NNS RB VBP JJ',\n",
       " 'NN NN',\n",
       " 'NN NN WDT',\n",
       " 'NNS VBP VBN JJ NN']"
      ]
     },
     "execution_count": 18,
     "metadata": {},
     "output_type": "execute_result"
    }
   ],
   "source": [
    "def POS_tag (tweets) :\n",
    "    tweet_tags = []\n",
    "    for t in tweets:\n",
    "        tokens = basic_tokenize(remove_punct_num_spec_singleTweet(t))\n",
    "        tags = nltk.pos_tag(tokens)\n",
    "        tag_list = [x[1] for x in tags]\n",
    "        tag_str = \" \".join(tag_list)\n",
    "        tweet_tags.append(tag_str)\n",
    "\n",
    "    return tweet_tags\n",
    "\n",
    "POS_tags = POS_tag(df1.tweet)\n",
    "POS_tags[:10]"
   ]
  },
  {
   "cell_type": "code",
   "execution_count": 19,
   "metadata": {},
   "outputs": [
    {
     "data": {
      "text/html": [
       "<div>\n",
       "<style scoped>\n",
       "    .dataframe tbody tr th:only-of-type {\n",
       "        vertical-align: middle;\n",
       "    }\n",
       "\n",
       "    .dataframe tbody tr th {\n",
       "        vertical-align: top;\n",
       "    }\n",
       "\n",
       "    .dataframe thead th {\n",
       "        text-align: right;\n",
       "    }\n",
       "</style>\n",
       "<table border=\"1\" class=\"dataframe\">\n",
       "  <thead>\n",
       "    <tr style=\"text-align: right;\">\n",
       "      <th></th>\n",
       "      <th>CC</th>\n",
       "      <th>CC CD</th>\n",
       "      <th>CC CD NN</th>\n",
       "      <th>CC CD NNS</th>\n",
       "      <th>CC IN</th>\n",
       "      <th>CC IN NN</th>\n",
       "      <th>CC JJ</th>\n",
       "      <th>CC JJ JJ</th>\n",
       "      <th>CC JJ NN</th>\n",
       "      <th>CC JJ NNS</th>\n",
       "      <th>...</th>\n",
       "      <th>WRB NN VB</th>\n",
       "      <th>WRB NN VBZ</th>\n",
       "      <th>WRB NNS</th>\n",
       "      <th>WRB NNS VBP</th>\n",
       "      <th>WRB VB</th>\n",
       "      <th>WRB VB NNS</th>\n",
       "      <th>WRB VBP</th>\n",
       "      <th>WRB VBP IN</th>\n",
       "      <th>WRB VBP JJ</th>\n",
       "      <th>WRB VBP NN</th>\n",
       "    </tr>\n",
       "  </thead>\n",
       "  <tbody>\n",
       "    <tr>\n",
       "      <td>27</td>\n",
       "      <td>0.0</td>\n",
       "      <td>0.0</td>\n",
       "      <td>0.0</td>\n",
       "      <td>0.0</td>\n",
       "      <td>0.0</td>\n",
       "      <td>0.0</td>\n",
       "      <td>0.0</td>\n",
       "      <td>0.0</td>\n",
       "      <td>0.0</td>\n",
       "      <td>0.0</td>\n",
       "      <td>...</td>\n",
       "      <td>0.0</td>\n",
       "      <td>0.0</td>\n",
       "      <td>0.0</td>\n",
       "      <td>0.0</td>\n",
       "      <td>0.0</td>\n",
       "      <td>0.0</td>\n",
       "      <td>0.0</td>\n",
       "      <td>0.0</td>\n",
       "      <td>0.0</td>\n",
       "      <td>0.0</td>\n",
       "    </tr>\n",
       "    <tr>\n",
       "      <td>28</td>\n",
       "      <td>0.0</td>\n",
       "      <td>0.0</td>\n",
       "      <td>0.0</td>\n",
       "      <td>0.0</td>\n",
       "      <td>0.0</td>\n",
       "      <td>0.0</td>\n",
       "      <td>0.0</td>\n",
       "      <td>0.0</td>\n",
       "      <td>0.0</td>\n",
       "      <td>0.0</td>\n",
       "      <td>...</td>\n",
       "      <td>0.0</td>\n",
       "      <td>0.0</td>\n",
       "      <td>0.0</td>\n",
       "      <td>0.0</td>\n",
       "      <td>0.0</td>\n",
       "      <td>0.0</td>\n",
       "      <td>0.0</td>\n",
       "      <td>0.0</td>\n",
       "      <td>0.0</td>\n",
       "      <td>0.0</td>\n",
       "    </tr>\n",
       "    <tr>\n",
       "      <td>29</td>\n",
       "      <td>0.0</td>\n",
       "      <td>0.0</td>\n",
       "      <td>0.0</td>\n",
       "      <td>0.0</td>\n",
       "      <td>0.0</td>\n",
       "      <td>0.0</td>\n",
       "      <td>0.0</td>\n",
       "      <td>0.0</td>\n",
       "      <td>0.0</td>\n",
       "      <td>0.0</td>\n",
       "      <td>...</td>\n",
       "      <td>0.0</td>\n",
       "      <td>0.0</td>\n",
       "      <td>0.0</td>\n",
       "      <td>0.0</td>\n",
       "      <td>0.0</td>\n",
       "      <td>0.0</td>\n",
       "      <td>0.0</td>\n",
       "      <td>0.0</td>\n",
       "      <td>0.0</td>\n",
       "      <td>0.0</td>\n",
       "    </tr>\n",
       "  </tbody>\n",
       "</table>\n",
       "<p>3 rows × 3264 columns</p>\n",
       "</div>"
      ],
      "text/plain": [
       "     CC  CC CD  CC CD NN  CC CD NNS  CC IN  CC IN NN  CC JJ  CC JJ JJ  \\\n",
       "27  0.0    0.0       0.0        0.0    0.0       0.0    0.0       0.0   \n",
       "28  0.0    0.0       0.0        0.0    0.0       0.0    0.0       0.0   \n",
       "29  0.0    0.0       0.0        0.0    0.0       0.0    0.0       0.0   \n",
       "\n",
       "    CC JJ NN  CC JJ NNS  ...  WRB NN VB  WRB NN VBZ  WRB NNS  WRB NNS VBP  \\\n",
       "27       0.0        0.0  ...        0.0         0.0      0.0          0.0   \n",
       "28       0.0        0.0  ...        0.0         0.0      0.0          0.0   \n",
       "29       0.0        0.0  ...        0.0         0.0      0.0          0.0   \n",
       "\n",
       "    WRB VB  WRB VB NNS  WRB VBP  WRB VBP IN  WRB VBP JJ  WRB VBP NN  \n",
       "27     0.0         0.0      0.0         0.0         0.0         0.0  \n",
       "28     0.0         0.0      0.0         0.0         0.0         0.0  \n",
       "29     0.0         0.0      0.0         0.0         0.0         0.0  \n",
       "\n",
       "[3 rows x 3264 columns]"
      ]
     },
     "execution_count": 19,
     "metadata": {},
     "output_type": "execute_result"
    }
   ],
   "source": [
    "pos_vect = TfidfVectorizer(\n",
    "    tokenizer=None,\n",
    "    lowercase=False,\n",
    "    preprocessor=None,\n",
    "    ngram_range=(1, 3),\n",
    "    use_idf=False,\n",
    "    smooth_idf=False,\n",
    "    )\n",
    "\n",
    "pos = pos_vect.fit_transform(pd.Series(POS_tags))\n",
    "pd.DataFrame(pos.toarray(), columns=pos_vect.get_feature_names())[27:30]"
   ]
  },
  {
   "cell_type": "markdown",
   "metadata": {},
   "source": [
    "# Altre features "
   ]
  },
  {
   "cell_type": "code",
   "execution_count": 20,
   "metadata": {},
   "outputs": [
    {
     "data": {
      "text/plain": [
       "[9.1, 69.14, 30, 1.3636, 114, 140, 25, 22, 20, 0.0, 0.12, 0.88, 0.4563, 0]"
      ]
     },
     "execution_count": 20,
     "metadata": {},
     "output_type": "execute_result"
    }
   ],
   "source": [
    "def other_features(tweet):\n",
    "   \n",
    "    sentiment_analyzer = VS()\n",
    "    sentiment = sentiment_analyzer.polarity_scores(tweet)\n",
    "    words = remove_punct_num_spec_singleTweet(tweet) \n",
    "\n",
    "    syllables = textstat.syllable_count(words)\n",
    "    num_chars = sum(len(w) for w in words)\n",
    "    num_chars_total = len(tweet)\n",
    "    num_terms = len(tweet.split())\n",
    "    num_words = len(words.split())\n",
    "    avg_syl = round(float((syllables+0.001))/float(num_words+0.001),4)\n",
    "    num_unique_terms = len(set(words.split()))\n",
    "    \n",
    "    FKRA = round(float(0.39 * float(num_words)/1.0) + float(11.8 * avg_syl) - 15.59,1)\n",
    "    FRE = round(206.835 - 1.015*(float(num_words)/1.0) - (84.6*float(avg_syl)),2)\n",
    "    \n",
    "    retweet = 0\n",
    "    if \"rt\" in words:\n",
    "        retweet = 1\n",
    "        \n",
    "    features = [FKRA, FRE,syllables, avg_syl, num_chars, num_chars_total, \n",
    "                num_terms, num_words, num_unique_terms, sentiment['neg'], \n",
    "                sentiment['pos'], sentiment['neu'], sentiment['compound'], retweet]\n",
    "    return features\n",
    "\n",
    "other_features(df1.tweet[0])"
   ]
  },
  {
   "cell_type": "code",
   "execution_count": 21,
   "metadata": {},
   "outputs": [
    {
     "data": {
      "text/html": [
       "<div>\n",
       "<style scoped>\n",
       "    .dataframe tbody tr th:only-of-type {\n",
       "        vertical-align: middle;\n",
       "    }\n",
       "\n",
       "    .dataframe tbody tr th {\n",
       "        vertical-align: top;\n",
       "    }\n",
       "\n",
       "    .dataframe thead th {\n",
       "        text-align: right;\n",
       "    }\n",
       "</style>\n",
       "<table border=\"1\" class=\"dataframe\">\n",
       "  <thead>\n",
       "    <tr style=\"text-align: right;\">\n",
       "      <th></th>\n",
       "      <th>aap</th>\n",
       "      <th>aaron</th>\n",
       "      <th>ab</th>\n",
       "      <th>abil</th>\n",
       "      <th>abl</th>\n",
       "      <th>abo</th>\n",
       "      <th>abort</th>\n",
       "      <th>absolut</th>\n",
       "      <th>abt</th>\n",
       "      <th>abu</th>\n",
       "      <th>...</th>\n",
       "      <th>num_chars</th>\n",
       "      <th>num_chars_total</th>\n",
       "      <th>num_terms</th>\n",
       "      <th>num_words</th>\n",
       "      <th>num_unique_words</th>\n",
       "      <th>vader neg</th>\n",
       "      <th>vader pos</th>\n",
       "      <th>vader neu</th>\n",
       "      <th>vader compound</th>\n",
       "      <th>is_retweet</th>\n",
       "    </tr>\n",
       "  </thead>\n",
       "  <tbody>\n",
       "    <tr>\n",
       "      <td>27</td>\n",
       "      <td>0.0</td>\n",
       "      <td>0.0</td>\n",
       "      <td>0.0</td>\n",
       "      <td>0.0</td>\n",
       "      <td>0.0</td>\n",
       "      <td>0.0</td>\n",
       "      <td>0.0</td>\n",
       "      <td>0.0</td>\n",
       "      <td>0.0</td>\n",
       "      <td>0.0</td>\n",
       "      <td>...</td>\n",
       "      <td>66.0</td>\n",
       "      <td>191.0</td>\n",
       "      <td>12.0</td>\n",
       "      <td>11.0</td>\n",
       "      <td>11.0</td>\n",
       "      <td>0.000</td>\n",
       "      <td>0.134</td>\n",
       "      <td>0.866</td>\n",
       "      <td>0.1779</td>\n",
       "      <td>0.0</td>\n",
       "    </tr>\n",
       "    <tr>\n",
       "      <td>28</td>\n",
       "      <td>0.0</td>\n",
       "      <td>0.0</td>\n",
       "      <td>0.0</td>\n",
       "      <td>0.0</td>\n",
       "      <td>0.0</td>\n",
       "      <td>0.0</td>\n",
       "      <td>0.0</td>\n",
       "      <td>0.0</td>\n",
       "      <td>0.0</td>\n",
       "      <td>0.0</td>\n",
       "      <td>...</td>\n",
       "      <td>84.0</td>\n",
       "      <td>188.0</td>\n",
       "      <td>23.0</td>\n",
       "      <td>19.0</td>\n",
       "      <td>17.0</td>\n",
       "      <td>0.280</td>\n",
       "      <td>0.000</td>\n",
       "      <td>0.720</td>\n",
       "      <td>-0.7906</td>\n",
       "      <td>0.0</td>\n",
       "    </tr>\n",
       "    <tr>\n",
       "      <td>29</td>\n",
       "      <td>0.0</td>\n",
       "      <td>0.0</td>\n",
       "      <td>0.0</td>\n",
       "      <td>0.0</td>\n",
       "      <td>0.0</td>\n",
       "      <td>0.0</td>\n",
       "      <td>0.0</td>\n",
       "      <td>0.0</td>\n",
       "      <td>0.0</td>\n",
       "      <td>0.0</td>\n",
       "      <td>...</td>\n",
       "      <td>48.0</td>\n",
       "      <td>57.0</td>\n",
       "      <td>12.0</td>\n",
       "      <td>11.0</td>\n",
       "      <td>11.0</td>\n",
       "      <td>0.266</td>\n",
       "      <td>0.175</td>\n",
       "      <td>0.559</td>\n",
       "      <td>-0.3182</td>\n",
       "      <td>0.0</td>\n",
       "    </tr>\n",
       "  </tbody>\n",
       "</table>\n",
       "<p>3 rows × 13278 columns</p>\n",
       "</div>"
      ],
      "text/plain": [
       "    aap  aaron   ab  abil  abl  abo  abort  absolut  abt  abu  ...  num_chars  \\\n",
       "27  0.0    0.0  0.0   0.0  0.0  0.0    0.0      0.0  0.0  0.0  ...       66.0   \n",
       "28  0.0    0.0  0.0   0.0  0.0  0.0    0.0      0.0  0.0  0.0  ...       84.0   \n",
       "29  0.0    0.0  0.0   0.0  0.0  0.0    0.0      0.0  0.0  0.0  ...       48.0   \n",
       "\n",
       "    num_chars_total  num_terms  num_words  num_unique_words  vader neg  \\\n",
       "27            191.0       12.0       11.0              11.0      0.000   \n",
       "28            188.0       23.0       19.0              17.0      0.280   \n",
       "29             57.0       12.0       11.0              11.0      0.266   \n",
       "\n",
       "    vader pos  vader neu  vader compound  is_retweet  \n",
       "27      0.134      0.866          0.1779         0.0  \n",
       "28      0.000      0.720         -0.7906         0.0  \n",
       "29      0.175      0.559         -0.3182         0.0  \n",
       "\n",
       "[3 rows x 13278 columns]"
      ]
     },
     "execution_count": 21,
     "metadata": {},
     "output_type": "execute_result"
    }
   ],
   "source": [
    "def get_feature_array(tweets):\n",
    "    feats=[]\n",
    "    for t in tweets:\n",
    "        feats.append(other_features(t))\n",
    "    return np.array(feats)\n",
    "\n",
    "feats = get_feature_array(tweets)\n",
    "M = np.concatenate([X.toarray(),pos.toarray(),feats],axis=1)\n",
    "\n",
    "\n",
    "vocab = {v:i for i, v in enumerate(vectorizer.get_feature_names())}\n",
    "idf_vals = vectorizer.idf_\n",
    "idf_dict = {i:idf_vals[i] for i in vocab.values()}\n",
    "\n",
    "pos_dict = {v:i for i, v in enumerate(pos_vect.get_feature_names())}\n",
    "\n",
    "other_features_names = [\"FKRA\", \"FRE\",\"num_syllables\", \"avg_syl_per_word\", \\\n",
    "                        \"num_chars\", \"num_chars_total\", \"num_terms\", \"num_words\", \\\n",
    "                        \"num_unique_words\", \"vader neg\",\"vader pos\",\"vader neu\", \\\n",
    "                        \"vader compound\", \"is_retweet\"]\n",
    "\n",
    "#Finally get a list of variable names\n",
    "variables = ['']*len(vocab)\n",
    "for k,v in vocab.items():\n",
    "    variables[v] = k\n",
    "\n",
    "pos_variables = ['']*len(pos_dict)\n",
    "for k,v in pos_dict.items():\n",
    "    pos_variables[v] = k\n",
    "\n",
    "feature_names = variables+pos_variables+other_features_names\n",
    "pd.DataFrame(M, columns=feature_names)[27:30]\n",
    "\n"
   ]
  },
  {
   "cell_type": "markdown",
   "metadata": {},
   "source": [
    "# Splitting test set e training set"
   ]
  },
  {
   "cell_type": "code",
   "execution_count": 22,
   "metadata": {},
   "outputs": [],
   "source": [
    "X = pd.DataFrame(M)\n",
    "y = df1['class'].astype(int)"
   ]
  },
  {
   "cell_type": "code",
   "execution_count": 23,
   "metadata": {},
   "outputs": [],
   "source": [
    "X_train, X_test, y_train, y_test = train_test_split(X, y, random_state=42, test_size=0.1)"
   ]
  },
  {
   "cell_type": "markdown",
   "metadata": {},
   "source": [
    "# Oversampling con SMOTE"
   ]
  },
  {
   "cell_type": "code",
   "execution_count": 24,
   "metadata": {},
   "outputs": [
    {
     "name": "stdout",
     "output_type": "stream",
     "text": [
      "Before OverSampling, counts of label '0': 1292\n",
      "Before OverSampling, counts of label '1': 8580\n",
      "Before OverSampling, counts of label '2': 3745 \n",
      "\n",
      "After OverSampling, the shape of train_X: (25740, 13278)\n",
      "After OverSampling, the shape of train_y: (25740,) \n",
      "\n",
      "After OverSampling, counts of label '0': 8580\n",
      "After OverSampling, counts of label '1': 8580\n",
      "After OverSampling, counts of label '2': 8580\n"
     ]
    }
   ],
   "source": [
    "from imblearn.over_sampling import SMOTE\n",
    "#\n",
    "print(\"Before OverSampling, counts of label '0': {}\".format(sum(y_train==0)))\n",
    "print(\"Before OverSampling, counts of label '1': {}\".format(sum(y_train==1)))\n",
    "print(\"Before OverSampling, counts of label '2': {} \\n\".format(sum(y_train==2)))\n",
    "\n",
    "sm = SMOTE(random_state=42)\n",
    "X_train_res, y_train_res = sm.fit_sample(X_train, y_train)\n",
    "\n",
    "print('After OverSampling, the shape of train_X: {}'.format(X_train_res.shape))\n",
    "print('After OverSampling, the shape of train_y: {} \\n'.format(y_train_res.shape))\n",
    "\n",
    "print(\"After OverSampling, counts of label '0': {}\".format(sum(y_train_res==0)))\n",
    "print(\"After OverSampling, counts of label '1': {}\".format(sum(y_train_res==1)))\n",
    "print(\"After OverSampling, counts of label '2': {}\".format(sum(y_train_res==2)))\n"
   ]
  },
  {
   "cell_type": "code",
   "execution_count": 25,
   "metadata": {},
   "outputs": [
    {
     "data": {
      "text/plain": [
       "22"
      ]
     },
     "execution_count": 25,
     "metadata": {},
     "output_type": "execute_result"
    }
   ],
   "source": [
    "#Utilizzare i seguenti classificatori consuma molta ram. MemoryError dovuto a questo motivo. Utilizzo garbage collector\n",
    "#per liberare memoria inutilizzata\n",
    "import gc\n",
    "gc.collect()"
   ]
  },
  {
   "cell_type": "markdown",
   "metadata": {},
   "source": [
    "# Cross Validation"
   ]
  },
  {
   "cell_type": "code",
   "execution_count": 26,
   "metadata": {},
   "outputs": [],
   "source": [
    "#Decommentare linea con cross_validate e commentare linea con dict per testare il cross validation\n",
    "\n",
    "LR = LogisticRegression(solver='lbfgs', max_iter=100, multi_class=\"auto\")\n",
    "#cv_LR = cross_validate(LR, X_train_res, y_train_res, cv=5, verbose=True)\n",
    "\n",
    "cv_LR = {'fit_time': np.array([54.2619555 , 51.10488844, 58.42432714, 62.23602962, 66.02006364]),\n",
    "         'score_time': np.array([0.14361835, 0.1146934 , 0.12267327, 0.14561105, 0.19448018]),\n",
    "         'test_score': np.array([0.44133644, 0.44366744, 0.43881119, 0.41297591, 0.5460373 ])}"
   ]
  },
  {
   "cell_type": "code",
   "execution_count": 37,
   "metadata": {},
   "outputs": [],
   "source": [
    "#Decommentare linea con cross_validate e commentare linea con dict per testare il cross validation\n",
    "\n",
    "DTC = DecisionTreeClassifier(max_depth=20)\n",
    "#cv_DTC = cross_validate(DTC, X_train_res, y_train_res, cv=5, verbose=True)\n",
    "\n",
    "cv_DTC = {'fit_time': np.array([162.88127065, 177.49825668, 177.92293787, 182.17597175,191.8862071 ]),\n",
    "        'score_time': np.array([0.27349138, 0.25332284, 0.24034286, 0.2224052 , 0.25631475]),\n",
    "         'test_score': np.array([0.82439782, 0.90345765, 0.91550117, 0.92812743, 0.92404817])}"
   ]
  },
  {
   "cell_type": "code",
   "execution_count": 28,
   "metadata": {},
   "outputs": [],
   "source": [
    "SVC = svm.SVC(gamma='scale')\n",
    "#cv_SVC = cross_validate(SVC, X_train_res, y_train_res, cv=5, verbose=True)"
   ]
  },
  {
   "cell_type": "code",
   "execution_count": 29,
   "metadata": {},
   "outputs": [],
   "source": [
    "#Decommentare linea con cross_validate e commentare linea con dict per testare il cross validation\n",
    "\n",
    "BNB = BernoulliNB()\n",
    "#cv_BNB = cross_validate(BNB, X_train_res, y_train_res, cv=5, verbose=True)\n",
    "\n",
    "cv_BNB = {'fit_time': np.array([3.38698387, 3.48072243, 3.37796497, 3.53075981, 3.33708167]),\n",
    "         'score_time': np.array([0.6272862 , 0.601367  , 0.57743287, 0.57243752, 0.56246519]),\n",
    "         'test_score': np.array([0.68026418, 0.77389277, 0.86052836, 0.87587413, 0.87470862])}"
   ]
  },
  {
   "cell_type": "markdown",
   "metadata": {},
   "source": [
    "# Analisi tempi di fitting"
   ]
  },
  {
   "cell_type": "code",
   "execution_count": 30,
   "metadata": {},
   "outputs": [
    {
     "data": {
      "text/plain": [
       "{'LR': 292.04726433999997,\n",
       " 'DTC': 892.3646440499999,\n",
       " 'SVC': 0.0,\n",
       " 'BNB': 17.113512749999998}"
      ]
     },
     "execution_count": 30,
     "metadata": {},
     "output_type": "execute_result"
    }
   ],
   "source": [
    "total_times = {\n",
    "    'LR': 0.0,\n",
    "    'DTC': 0.0,\n",
    "    'SVC': 0.0,\n",
    "    'BNB': 0.0\n",
    "}\n",
    "\n",
    "def times (model, name) :\n",
    "    for time in model['fit_time'] :\n",
    "        \n",
    "        total_times[name] = total_times[name] + time\n",
    "        \n",
    "    return total_times[name]\n",
    "\n",
    "total_times['LR'] = times(cv_LR, 'LR')\n",
    "total_times['DTC'] = times(cv_DTC, 'DTC')\n",
    "#total_times['SVC'] = times(cv_SVC, 'SVC')\n",
    "total_times['BNB'] = times(cv_BNB, 'BNB')\n",
    "\n",
    "total_times"
   ]
  },
  {
   "cell_type": "code",
   "execution_count": 31,
   "metadata": {},
   "outputs": [
    {
     "data": {
      "text/plain": [
       "<BarContainer object of 4 artists>"
      ]
     },
     "execution_count": 31,
     "metadata": {},
     "output_type": "execute_result"
    },
    {
     "data": {
      "image/png": "[encoded data removed]",
      "text/plain": [
       "<Figure size 432x288 with 1 Axes>"
      ]
     },
     "metadata": {
      "needs_background": "light"
     },
     "output_type": "display_data"
    }
   ],
   "source": [
    "plt.bar(total_times.keys(), total_times.values(), 0.5, color='g')"
   ]
  },
  {
   "cell_type": "markdown",
   "metadata": {},
   "source": [
    "# Fitting dei modelli"
   ]
  },
  {
   "cell_type": "code",
   "execution_count": 38,
   "metadata": {},
   "outputs": [],
   "source": [
    "#LR_model = LR.fit(X_train_res, y_train_res)\n",
    "DTC_model = DTC.fit(X_train_res, y_train_res)\n",
    "#SVC_model = SVC.fit(X_train_res, y_train_res)\n",
    "#BNB_model = BNB.fit(X_train_res, y_train_res)"
   ]
  },
  {
   "cell_type": "markdown",
   "metadata": {},
   "source": [
    "# Predictions"
   ]
  },
  {
   "cell_type": "code",
   "execution_count": 39,
   "metadata": {},
   "outputs": [],
   "source": [
    "y_preds_LR = LR_model.predict(X_test)\n",
    "y_preds_DTC = DTC_model.predict(X_test)\n",
    "#y_preds_SVC = SVC_model.predict(X_test)\n",
    "y_preds_BNB = BNB_model.predict(X_test)"
   ]
  },
  {
   "cell_type": "markdown",
   "metadata": {},
   "source": [
    "# Confusion Matrix"
   ]
  },
  {
   "cell_type": "code",
   "execution_count": 40,
   "metadata": {},
   "outputs": [
    {
     "data": {
      "image/png": "[encoded data removed]",
      "text/plain": [
       "<Figure size 360x360 with 1 Axes>"
      ]
     },
     "metadata": {
      "needs_background": "light"
     },
     "output_type": "display_data"
    }
   ],
   "source": [
    "from sklearn.metrics import confusion_matrix\n",
    "import seaborn\n",
    "\n",
    "confusion_matrix = confusion_matrix(y_test,y_preds_DTC)\n",
    "matrix_proportions = np.zeros((3,3))\n",
    "for i in range(0,3):\n",
    "    matrix_proportions[i,:] = confusion_matrix[i,:]/float(confusion_matrix[i,:].sum())\n",
    "names=['Hate','Offensive','Neither']\n",
    "confusion_df = pd.DataFrame(matrix_proportions, index=names,columns=names)\n",
    "plt.figure(figsize=(5,5))\n",
    "plt.title('DecisionTreeClassifier')\n",
    "seaborn.heatmap(confusion_df,annot=True,annot_kws={\"size\": 12},cmap='Blues', cbar=False, square=True,fmt='.2f')\n",
    "plt.ylabel(r'True categories',fontsize=14)\n",
    "plt.xlabel(r'Predicted categories',fontsize=14)\n",
    "plt.tick_params(labelsize=12)"
   ]
  },
  {
   "cell_type": "code",
   "execution_count": 35,
   "metadata": {},
   "outputs": [
    {
     "data": {
      "image/png": "[encoded data removed]",
      "text/plain": [
       "<Figure size 360x360 with 1 Axes>"
      ]
     },
     "metadata": {
      "needs_background": "light"
     },
     "output_type": "display_data"
    }
   ],
   "source": [
    "from sklearn.metrics import confusion_matrix\n",
    "import seaborn\n",
    "\n",
    "confusion_matrix = confusion_matrix(y_test,y_preds_LR)\n",
    "matrix_proportions = np.zeros((3,3))\n",
    "for i in range(0,3):\n",
    "    matrix_proportions[i,:] = confusion_matrix[i,:]/float(confusion_matrix[i,:].sum())\n",
    "names=['Hate','Offensive','Neither']\n",
    "confusion_df = pd.DataFrame(matrix_proportions, index=names,columns=names)\n",
    "plt.figure(figsize=(5,5))\n",
    "plt.title('Logistic Regression')\n",
    "seaborn.heatmap(confusion_df,annot=True,annot_kws={\"size\": 12},cmap='Blues',cbar=False, square=True,fmt='.2f')\n",
    "plt.ylabel(r'True categories',fontsize=14)\n",
    "plt.xlabel(r'Predicted categories',fontsize=14)\n",
    "plt.tick_params(labelsize=12)"
   ]
  },
  {
   "cell_type": "code",
   "execution_count": 36,
   "metadata": {},
   "outputs": [
    {
     "data": {
      "image/png": "[encoded data removed]",
      "text/plain": [
       "<Figure size 360x360 with 1 Axes>"
      ]
     },
     "metadata": {
      "needs_background": "light"
     },
     "output_type": "display_data"
    }
   ],
   "source": [
    "from sklearn.metrics import confusion_matrix\n",
    "import seaborn\n",
    "\n",
    "confusion_matrix = confusion_matrix(y_test,y_preds_BNB)\n",
    "matrix_proportions = np.zeros((3,3))\n",
    "for i in range(0,3):\n",
    "    matrix_proportions[i,:] = confusion_matrix[i,:]/float(confusion_matrix[i,:].sum())\n",
    "names=['Hate','Offensive','Neither']\n",
    "confusion_df = pd.DataFrame(matrix_proportions, index=names,columns=names)\n",
    "plt.figure(figsize=(5,5))\n",
    "plt.title('Bernoulli Naive Bayes')\n",
    "seaborn.heatmap(confusion_df,annot=True,annot_kws={\"size\": 12},cmap='Blues',cbar=False, square=True,fmt='.2f')\n",
    "plt.ylabel(r'True categories',fontsize=14)\n",
    "plt.xlabel(r'Predicted categories',fontsize=14)\n",
    "plt.tick_params(labelsize=12)"
   ]
  },
  {
   "cell_type": "code",
   "execution_count": null,
   "metadata": {},
   "outputs": [],
   "source": []
  },
  {
   "cell_type": "code",
   "execution_count": null,
   "metadata": {},
   "outputs": [],
   "source": []
  }
 ],
 "metadata": {
  "kernelspec": {
   "display_name": "Python 3",
   "language": "python",
   "name": "python3"
  },
  "language_info": {
   "codemirror_mode": {
    "name": "ipython",
    "version": 3
   },
   "file_extension": ".py",
   "mimetype": "text/x-python",
   "name": "python",
   "nbconvert_exporter": "python",
   "pygments_lexer": "ipython3",
   "version": "3.7.1"
  }
 },
 "nbformat": 4,
 "nbformat_minor": 2
}
