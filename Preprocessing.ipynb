{
 "cells": [
  {
   "cell_type": "code",
   "execution_count": 1,
   "metadata": {},
   "outputs": [],
   "source": [
    "import numpy as np\n",
    "import pandas as pd\n",
    "import matplotlib.pyplot as plt\n",
    "\n",
    "import preprocessor as prep    #docs at    https://pypi.org/project/tweet-preprocessor/\n",
    "                            #errore nell'installazione con pip: scaricato a mano da github e inserito in C:\\...\\Anaconda\\Lib\\site-packages\n",
    "                            #alternativa a preprocessor: https://github.com/edmondburnett/twitter-text-python\n",
    "from ttp import ttp\n",
    "\n",
    "import re                   #regular expression\n",
    "import string\n",
    "\n",
    "\n",
    "from nltk.corpus import stopwords                   #preso da https://www.geeksforgeeks.org/removing-stop-words-nltk-python/\n",
    "from nltk.tokenize import word_tokenize \n",
    "\n",
    "\n",
    "from nltk.tokenize import RegexpTokenizer\n",
    "\n",
    "\n",
    "\n",
    "\n",
    "#procedura presa da https://towardsdatascience.com/extracting-twitter-data-pre-processing-and-sentiment-analysis-using-python-3-0-7192bd8b47cf\n"
   ]
  },
  {
   "cell_type": "code",
   "execution_count": 2,
   "metadata": {},
   "outputs": [
    {
     "data": {
      "text/html": [
       "<div>\n",
       "<style scoped>\n",
       "    .dataframe tbody tr th:only-of-type {\n",
       "        vertical-align: middle;\n",
       "    }\n",
       "\n",
       "    .dataframe tbody tr th {\n",
       "        vertical-align: top;\n",
       "    }\n",
       "\n",
       "    .dataframe thead th {\n",
       "        text-align: right;\n",
       "    }\n",
       "</style>\n",
       "<table border=\"1\" class=\"dataframe\">\n",
       "  <thead>\n",
       "    <tr style=\"text-align: right;\">\n",
       "      <th></th>\n",
       "      <th>count</th>\n",
       "      <th>hate_speech</th>\n",
       "      <th>offensive_language</th>\n",
       "      <th>neither</th>\n",
       "      <th>class</th>\n",
       "      <th>tweet</th>\n",
       "    </tr>\n",
       "    <tr>\n",
       "      <th>Unnamed: 0</th>\n",
       "      <th></th>\n",
       "      <th></th>\n",
       "      <th></th>\n",
       "      <th></th>\n",
       "      <th></th>\n",
       "      <th></th>\n",
       "    </tr>\n",
       "  </thead>\n",
       "  <tbody>\n",
       "    <tr>\n",
       "      <th>0</th>\n",
       "      <td>3</td>\n",
       "      <td>0</td>\n",
       "      <td>0</td>\n",
       "      <td>3</td>\n",
       "      <td>2</td>\n",
       "      <td>!!! RT @mayasolovely: As a woman you shouldn't...</td>\n",
       "    </tr>\n",
       "    <tr>\n",
       "      <th>1</th>\n",
       "      <td>3</td>\n",
       "      <td>0</td>\n",
       "      <td>3</td>\n",
       "      <td>0</td>\n",
       "      <td>1</td>\n",
       "      <td>!!!!! RT @mleew17: boy dats cold...tyga dwn ba...</td>\n",
       "    </tr>\n",
       "    <tr>\n",
       "      <th>2</th>\n",
       "      <td>3</td>\n",
       "      <td>0</td>\n",
       "      <td>3</td>\n",
       "      <td>0</td>\n",
       "      <td>1</td>\n",
       "      <td>!!!!!!! RT @UrKindOfBrand Dawg!!!! RT @80sbaby...</td>\n",
       "    </tr>\n",
       "    <tr>\n",
       "      <th>3</th>\n",
       "      <td>3</td>\n",
       "      <td>0</td>\n",
       "      <td>2</td>\n",
       "      <td>1</td>\n",
       "      <td>1</td>\n",
       "      <td>!!!!!!!!! RT @C_G_Anderson: @viva_based she lo...</td>\n",
       "    </tr>\n",
       "    <tr>\n",
       "      <th>4</th>\n",
       "      <td>6</td>\n",
       "      <td>0</td>\n",
       "      <td>6</td>\n",
       "      <td>0</td>\n",
       "      <td>1</td>\n",
       "      <td>!!!!!!!!!!!!! RT @ShenikaRoberts: The shit you...</td>\n",
       "    </tr>\n",
       "  </tbody>\n",
       "</table>\n",
       "</div>"
      ],
      "text/plain": [
       "            count  hate_speech  offensive_language  neither  class  \\\n",
       "Unnamed: 0                                                           \n",
       "0               3            0                   0        3      2   \n",
       "1               3            0                   3        0      1   \n",
       "2               3            0                   3        0      1   \n",
       "3               3            0                   2        1      1   \n",
       "4               6            0                   6        0      1   \n",
       "\n",
       "                                                        tweet  \n",
       "Unnamed: 0                                                     \n",
       "0           !!! RT @mayasolovely: As a woman you shouldn't...  \n",
       "1           !!!!! RT @mleew17: boy dats cold...tyga dwn ba...  \n",
       "2           !!!!!!! RT @UrKindOfBrand Dawg!!!! RT @80sbaby...  \n",
       "3           !!!!!!!!! RT @C_G_Anderson: @viva_based she lo...  \n",
       "4           !!!!!!!!!!!!! RT @ShenikaRoberts: The shit you...  "
      ]
     },
     "execution_count": 2,
     "metadata": {},
     "output_type": "execute_result"
    }
   ],
   "source": [
    "#Importing the dataset\n",
    "\n",
    "df = pd.read_csv('progetto base/data/labeled_data.csv')\n",
    "df = df.set_index('Unnamed: 0')\n",
    "df.head()\n"
   ]
  },
  {
   "cell_type": "code",
   "execution_count": 3,
   "metadata": {},
   "outputs": [
    {
     "name": "stdout",
     "output_type": "stream",
     "text": [
      "[\"!!! RT : As a woman you shouldn't complain about cleaning up your house. &amp; as a man you should always take the trash out...\", '!!!!! RT : boy dats cold...tyga dwn bad for cuffin dat hoe in the st place!!', '!!!!!!! RT Dawg!!!! RT : You ever fuck a bitch and she start to cry? You be confused as shit', '!!!!!!!!! RT : she look like a tranny', '!!!!!!!!!!!!! RT : The shit you hear about me might be true or it might be faker than the bitch who told it to ya &;']\n"
     ]
    }
   ],
   "source": [
    "#Pulisco tweet da emoticons, emoji, tag, citazioni e url\n",
    "\n",
    "tweets = df.tweet\n",
    "cleaned_tweets = []\n",
    "\n",
    "for tweet in tweets :\n",
    "    tweet = prep.clean(tweet)                           #pulisce anche le emoji. es \"\\U0001F64F\"\n",
    "    cleaned_tweets.append(tweet)\n",
    "print(cleaned_tweets[:5])\n",
    "\n"
   ]
  },
  {
   "cell_type": "code",
   "execution_count": 4,
   "metadata": {
    "scrolled": false
   },
   "outputs": [
    {
     "name": "stdout",
     "output_type": "stream",
     "text": [
      "!\"#$%&'()*+,-./:;<=>?@[\\]^_`{|}~\n",
      "------------------------------------------------------------------\n",
      "['i', 'me', 'my', 'myself', 'we', 'our', 'ours', 'ourselves', 'you', \"you're\", \"you've\", \"you'll\", \"you'd\", 'your', 'yours', 'yourself', 'yourselves', 'he', 'him', 'his', 'himself', 'she', \"she's\", 'her', 'hers', 'herself', 'it', \"it's\", 'its', 'itself', 'they', 'them', 'their', 'theirs', 'themselves', 'what', 'which', 'who', 'whom', 'this', 'that', \"that'll\", 'these', 'those', 'am', 'is', 'are', 'was', 'were', 'be', 'been', 'being', 'have', 'has', 'had', 'having', 'do', 'does', 'did', 'doing', 'a', 'an', 'the', 'and', 'but', 'if', 'or', 'because', 'as', 'until', 'while', 'of', 'at', 'by', 'for', 'with', 'about', 'against', 'between', 'into', 'through', 'during', 'before', 'after', 'above', 'below', 'to', 'from', 'up', 'down', 'in', 'out', 'on', 'off', 'over', 'under', 'again', 'further', 'then', 'once', 'here', 'there', 'when', 'where', 'why', 'how', 'all', 'any', 'both', 'each', 'few', 'more', 'most', 'other', 'some', 'such', 'no', 'nor', 'not', 'only', 'own', 'same', 'so', 'than', 'too', 'very', 's', 't', 'can', 'will', 'just', 'don', \"don't\", 'should', \"should've\", 'now', 'd', 'll', 'm', 'o', 're', 've', 'y', 'ain', 'aren', \"aren't\", 'couldn', \"couldn't\", 'didn', \"didn't\", 'doesn', \"doesn't\", 'hadn', \"hadn't\", 'hasn', \"hasn't\", 'haven', \"haven't\", 'isn', \"isn't\", 'ma', 'mightn', \"mightn't\", 'mustn', \"mustn't\", 'needn', \"needn't\", 'shan', \"shan't\", 'shouldn', \"shouldn't\", 'wasn', \"wasn't\", 'weren', \"weren't\", 'won', \"won't\", 'wouldn', \"wouldn't\", '#ff', 'ff', 'rt', '#FF', 'FF', 'RT', 'amp']\n",
      "------------------------------------------------------------------\n",
      "[['As', 'woman', 'complain', 'cleaning', 'house', 'man', 'always', 'take', 'trash'], ['boy', 'dats', 'cold', 'tyga', 'dwn', 'bad', 'cuffin', 'dat', 'hoe', 'st', 'place'], ['Dawg', 'You', 'ever', 'fuck', 'bitch', 'start', 'cry', 'You', 'confused', 'shit'], ['look', 'like', 'tranny'], ['The', 'shit', 'hear', 'might', 'true', 'might', 'faker', 'bitch', 'told', 'ya']]\n"
     ]
    }
   ],
   "source": [
    "# Creo vettore \"tokenized_tweets\" fatto da istanze di \"new_sentence\", \n",
    "# che contengono ogni frase ripulita da punteggiatura e stop words\n",
    "\n",
    "tokenizer = RegexpTokenizer(r'\\w+')\n",
    "\n",
    "stop_words = (stopwords.words('english'))\n",
    "other_exclusions = [\"#ff\", \"ff\", \"rt\", \"#FF\", \"FF\", \"RT\", 'amp']  #non ho trovato un modo migliore per togliere &amp\n",
    "stop_words.extend(other_exclusions)\n",
    "#stop_words = set(stop_words)\n",
    "\n",
    "print('------------------------------------------------------------------')\n",
    "print(stop_words)\n",
    "print('------------------------------------------------------------------')\n",
    "\n",
    "\n",
    "\n",
    "tokenized_tweets = []\n",
    "new_sentence = []\n",
    "\n",
    "for tweet in cleaned_tweets :\n",
    "    text = tokenizer.tokenize(tweet)                      #istanza di RegexpTokenizer, tokenizza e rimuove punteggiatura\n",
    "    \n",
    "    for w in text:\n",
    "        if w not in stop_words:                           #rimuove stop words\n",
    "            new_sentence.append(w)\n",
    "\n",
    "    tokenized_tweets.append(new_sentence)\n",
    "    new_sentence = []\n",
    "\n",
    "\n",
    "\n",
    "print(tokenized_tweets[:5])\n",
    "\n",
    "\n"
   ]
  },
  {
   "cell_type": "code",
   "execution_count": null,
   "metadata": {},
   "outputs": [],
   "source": []
  },
  {
   "cell_type": "code",
   "execution_count": null,
   "metadata": {},
   "outputs": [],
   "source": []
  },
  {
   "cell_type": "code",
   "execution_count": null,
   "metadata": {},
   "outputs": [],
   "source": []
  },
  {
   "cell_type": "code",
   "execution_count": null,
   "metadata": {},
   "outputs": [],
   "source": []
  },
  {
   "cell_type": "code",
   "execution_count": null,
   "metadata": {},
   "outputs": [],
   "source": []
  },
  {
   "cell_type": "code",
   "execution_count": null,
   "metadata": {},
   "outputs": [],
   "source": []
  },
  {
   "cell_type": "code",
   "execution_count": null,
   "metadata": {},
   "outputs": [],
   "source": []
  }
 ],
 "metadata": {
  "kernelspec": {
   "display_name": "Python 3",
   "language": "python",
   "name": "python3"
  },
  "language_info": {
   "codemirror_mode": {
    "name": "ipython",
    "version": 3
   },
   "file_extension": ".py",
   "mimetype": "text/x-python",
   "name": "python",
   "nbconvert_exporter": "python",
   "pygments_lexer": "ipython3",
   "version": "3.7.3"
  }
 },
 "nbformat": 4,
 "nbformat_minor": 2
}
